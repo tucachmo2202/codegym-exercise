{
 "cells": [
  {
   "cell_type": "code",
   "execution_count": 15,
   "metadata": {},
   "outputs": [
    {
     "name": "stdout",
     "output_type": "stream",
     "text": [
      "In các thuộc tính của xe\n",
      "merc S của Mạnh\n",
      "Mercedes\n",
      "2020\n",
      "In các thuộc tính của xe\n",
      "bmw của Mạnh\n",
      "BMW\n",
      "2021\n"
     ]
    }
   ],
   "source": [
    "class Car:\n",
    "    def __init__(self, ten, hang, nam):\n",
    "        self.ten = ten + \" của Mạnh\"\n",
    "        self.hang = hang\n",
    "#         self.nam = nam\n",
    "    def in_thong_so(self):\n",
    "        print(\"In các thuộc tính của xe\")\n",
    "        print(self.ten)\n",
    "        print(self.hang)\n",
    "        print(self.nam)\n",
    "    def set_nam(self, nam):\n",
    "        self.nam = nam\n",
    "\n",
    "merc = Car(\"merc S\", \"Mercedes\", \"2020\")\n",
    "bmw = Car(\"bmw\", \"BMW\", \"2021\")\n",
    "\n",
    "merc.nam = \"2020\"\n",
    "bmw.nam = \"2021\"\n",
    "merc.in_thong_so()\n",
    "bmw.in_thong_so()\n",
    "        "
   ]
  },
  {
   "cell_type": "code",
   "execution_count": 9,
   "metadata": {},
   "outputs": [
    {
     "name": "stdout",
     "output_type": "stream",
     "text": [
      "merc S\n",
      "Mercedes\n",
      "2020\n",
      "bmw\n"
     ]
    }
   ],
   "source": [
    "print(merc.ten)\n",
    "print(merc.hang)\n",
    "print(merc.nam)\n",
    "\n",
    "print(bmw.ten)"
   ]
  },
  {
   "cell_type": "code",
   "execution_count": null,
   "metadata": {},
   "outputs": [],
   "source": []
  },
  {
   "cell_type": "code",
   "execution_count": null,
   "metadata": {},
   "outputs": [],
   "source": []
  },
  {
   "cell_type": "code",
   "execution_count": null,
   "metadata": {},
   "outputs": [],
   "source": []
  },
  {
   "cell_type": "code",
   "execution_count": null,
   "metadata": {},
   "outputs": [],
   "source": []
  },
  {
   "cell_type": "code",
   "execution_count": null,
   "metadata": {},
   "outputs": [],
   "source": []
  },
  {
   "cell_type": "code",
   "execution_count": null,
   "metadata": {},
   "outputs": [],
   "source": []
  },
  {
   "cell_type": "code",
   "execution_count": null,
   "metadata": {},
   "outputs": [],
   "source": []
  }
 ],
 "metadata": {
  "kernelspec": {
   "display_name": "Python 3",
   "language": "python",
   "name": "python3"
  },
  "language_info": {
   "codemirror_mode": {
    "name": "ipython",
    "version": 3
   },
   "file_extension": ".py",
   "mimetype": "text/x-python",
   "name": "python",
   "nbconvert_exporter": "python",
   "pygments_lexer": "ipython3",
   "version": "3.6.9"
  }
 },
 "nbformat": 4,
 "nbformat_minor": 4
}
