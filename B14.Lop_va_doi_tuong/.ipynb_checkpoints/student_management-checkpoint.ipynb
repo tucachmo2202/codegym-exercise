{
 "cells": [
  {
   "cell_type": "code",
   "execution_count": null,
   "metadata": {},
   "outputs": [],
   "source": [
    "class Student:\n",
    "    def __init__(self, student_id, name, dob, address, cls):\n",
    "        self.student_id = student_id\n",
    "        self.name = name\n",
    "        self.dob = dob\n",
    "        self.address = address\n",
    "        self.cls =cls\n",
    "        \n",
    "    def print_information():\n",
    "        print(\"Information of the student:\")\n",
    "        print(\"id =\", self.student_id)\n",
    "        print(\"name =\", self.name)\n",
    "        print(\"date of birth =\", self.dob)\n",
    "        print(\"address =\", self.address)\n",
    "        print(\"class =\", self.cls, \"\\n\")\n",
    "        \n",
    "class StudentList:\n",
    "    def __init__(self):\n",
    "        student_list = []\n",
    "    # In thông tin các sinh viên\n",
    "    def print_student(self):\n",
    "        for student in self.student_list:\n",
    "            student.print_information()\n",
    "    \n",
    "    # Thêm sinh viên mới\n",
    "    def add_student(self):\n",
    "        print(\"Please input student information:\")\n",
    "        student_id = int(input(\"student_id: \"))\n",
    "        name = input(\"name: \")\n",
    "        dob = input(\"dob: \")\n",
    "        address = input(\"address: \")\n",
    "        cls = input(\"class: \")\n",
    "        new_student = Student(student_id, name, dob, address, cls)\n",
    "        self.student_list.append(new_student)\n",
    "    \n",
    "    # Cập nhật thông tin sinh viên theo id:\n",
    "    def update_student_information(self, name, dob, address, cls):\n",
    "        student_id = int(input(\"Input student id: \"))\n",
    "        for student in self.student_list:\n",
    "            if student.student_id == student_id:\n",
    "                student.name = name\n",
    "                student.dob = dob\n",
    "                student.address = address\n",
    "                student.cls = cls\n",
    "        \n",
    "    \n",
    "    # Xóa thông tin sinh viên theo id:\n",
    "    def delete_student(self):\n",
    "        student_id = int(input(\"Input student id: \"))\n",
    "        index = -1\n",
    "        for i in range(len(self.student_list)):\n",
    "            if self.student_list[i].student_id == student_id:\n",
    "                index = i\n",
    "        if index == -1:\n",
    "            print(\"Not found student id\")\n",
    "        else:\n",
    "            del student_list[index]\n",
    "    \n",
    "    def find_student_by_id(self):\n",
    "        student_id = int(input(\"Input student id: \"))\n",
    "        index = -1\n",
    "        for i in range(len(self.student_list)):\n",
    "            if self.student_list[i].student_id == student_id:\n",
    "                index = i\n",
    "        if index == -1:\n",
    "            print(\"Not found student id\")\n",
    "        else:\n",
    "            return self.student_list[i]\n",
    "                \n",
    "        \n",
    "        "
   ]
  },
  {
   "cell_type": "code",
   "execution_count": null,
   "metadata": {},
   "outputs": [],
   "source": []
  },
  {
   "cell_type": "code",
   "execution_count": null,
   "metadata": {},
   "outputs": [],
   "source": []
  },
  {
   "cell_type": "code",
   "execution_count": null,
   "metadata": {},
   "outputs": [],
   "source": []
  },
  {
   "cell_type": "code",
   "execution_count": null,
   "metadata": {},
   "outputs": [],
   "source": []
  },
  {
   "cell_type": "code",
   "execution_count": null,
   "metadata": {},
   "outputs": [],
   "source": []
  },
  {
   "cell_type": "code",
   "execution_count": null,
   "metadata": {},
   "outputs": [],
   "source": []
  },
  {
   "cell_type": "code",
   "execution_count": null,
   "metadata": {},
   "outputs": [],
   "source": []
  },
  {
   "cell_type": "code",
   "execution_count": null,
   "metadata": {},
   "outputs": [],
   "source": []
  }
 ],
 "metadata": {
  "kernelspec": {
   "display_name": "Python 3",
   "language": "python",
   "name": "python3"
  },
  "language_info": {
   "codemirror_mode": {
    "name": "ipython",
    "version": 3
   },
   "file_extension": ".py",
   "mimetype": "text/x-python",
   "name": "python",
   "nbconvert_exporter": "python",
   "pygments_lexer": "ipython3",
   "version": "3.6.9"
  }
 },
 "nbformat": 4,
 "nbformat_minor": 4
}
