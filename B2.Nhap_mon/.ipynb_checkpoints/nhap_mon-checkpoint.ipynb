{
 "cells": [
  {
   "cell_type": "code",
   "execution_count": 1,
   "metadata": {},
   "outputs": [],
   "source": [
    "from turtle import *\n",
    "color('red', 'yellow')\n",
    "begin_fill()\n",
    "while True:\n",
    "    forward(200)\n",
    "    left(170)\n",
    "    if abs(pos()) < 1:\n",
    "        break\n",
    "end_fill()\n",
    "done()"
   ]
  },
  {
   "cell_type": "code",
   "execution_count": 8,
   "metadata": {},
   "outputs": [],
   "source": [
    "import turtle as t\n",
    "import time as ti\n",
    "\n",
    "def rectangle(hor,ver,col):\n",
    "    t.pendown() #tạo con trỏ\n",
    "    t.pensize(1)\n",
    "    t.color(col)\n",
    "    t.begin_fill()\n",
    "    for counter in range(1,3):\n",
    "        t.forward(hor)\n",
    "        t.right(90)\n",
    "        t.forward(ver)\n",
    "        t.right(90)\n",
    "    t.end_fill()\n",
    "    t.penup()\n",
    "t.penup()\n",
    "t.speed('slow')\n",
    "t.bgcolor('Dodger blue')\n",
    "\n",
    "t.goto(-100,-150)\n",
    "rectangle(50,20,'blue')\n",
    "t.goto(-30,-150)\n",
    "rectangle(50,20,'blue')\n",
    "\n",
    "t.goto(-25,-50)\n",
    "rectangle(15,100,'grey')\n",
    "t.goto(-55,-50)\n",
    "rectangle(-15,100,'grey')\n",
    "\n",
    "t.goto(-90,100)\n",
    "rectangle(100,150,'red')\n",
    "\n",
    "t.goto(-150,70)\n",
    "rectangle(60,15,'grey')\n",
    "t.goto(-150,110)\n",
    "rectangle(15,40,'grey')\n",
    "t.goto(10,70)\n",
    "rectangle(60,15,'grey')\n",
    "t.goto(55,110)\n",
    "rectangle(15,40,'grey')\n",
    "\n",
    "t.goto(-50,120)\n",
    "rectangle(15,20,'grey')\n",
    "t.goto(-85,170)\n",
    "rectangle(80,50,'red')\n",
    "t.goto(-60,160)\n",
    "rectangle(30,10,'white')\n",
    "t.goto(-60,160)\n",
    "rectangle(5,5,'black')\n",
    "t.goto(-45,155)\n",
    "rectangle(5,5,'black')\n",
    "t.goto(-65,135)\n",
    "t.right(5)\n",
    "rectangle(40,5,'black')\n",
    "t.goto(-155,130)\n",
    "rectangle(25,25,'green')\n",
    "t.goto(-147,130)\n",
    "rectangle(10,15,t.bgcolor())\n",
    "t.goto(50,130)\n",
    "rectangle(25,25,'green')\n",
    "t.goto(58,130)\n",
    "rectangle(10,15,t.bgcolor())\n",
    "#t.hideturtle()\n",
    "ti.sleep(1)\n",
    "#t.hideturtle()"
   ]
  },
  {
   "cell_type": "code",
   "execution_count": 3,
   "metadata": {},
   "outputs": [],
   "source": [
    "import turtle\n",
    "t = turtle.Pen()\n",
    "turtle.bgcolor(\"black\")\n",
    "colors = [\"red\", \"yellow\", \"blue\", \"green\"]\n",
    "for x in range(200):\n",
    "    t.pencolor(colors[x%4])\n",
    "    t.forward(x)\n",
    "    t.left(91)"
   ]
  },
  {
   "cell_type": "code",
   "execution_count": null,
   "metadata": {},
   "outputs": [],
   "source": []
  }
 ],
 "metadata": {
  "kernelspec": {
   "display_name": "Python 3",
   "language": "python",
   "name": "python3"
  },
  "language_info": {
   "codemirror_mode": {
    "name": "ipython",
    "version": 3
   },
   "file_extension": ".py",
   "mimetype": "text/x-python",
   "name": "python",
   "nbconvert_exporter": "python",
   "pygments_lexer": "ipython3",
   "version": "3.6.9"
  }
 },
 "nbformat": 4,
 "nbformat_minor": 4
}
